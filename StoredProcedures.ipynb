{
 "cells": [
  {
   "cell_type": "code",
   "execution_count": 1,
   "id": "a2dbe96d-246c-4b60-9ac6-b61938c4b7ed",
   "metadata": {},
   "outputs": [],
   "source": [
    "# Import MySQL Connector/Python \n",
    "import mysql.connector as connector\n",
    "\n",
    "connection=connector.connect(user=\"root\",password=\"51125112\")"
   ]
  },
  {
   "cell_type": "code",
   "execution_count": 2,
   "id": "a2a00cfc-d3a5-40db-93b6-717b6f846265",
   "metadata": {},
   "outputs": [],
   "source": [
    "cursor = connection.cursor()"
   ]
  },
  {
   "cell_type": "code",
   "execution_count": 3,
   "id": "2799bef1-867d-431c-ac9d-9c17e1ebc166",
   "metadata": {},
   "outputs": [],
   "source": [
    "cursor.execute(\"USE little_lemon_db\")"
   ]
  },
  {
   "cell_type": "code",
   "execution_count": 4,
   "id": "e653ddff-7331-4e1f-afe6-e7f1e5f1d99b",
   "metadata": {},
   "outputs": [
    {
     "name": "stdout",
     "output_type": "stream",
     "text": [
      "First task:\n"
     ]
    }
   ],
   "source": [
    "#################################################\n",
    "#                Task 1                         #\n",
    "#################################################\n",
    "print(\"First task:\")"
   ]
  },
  {
   "cell_type": "code",
   "execution_count": 6,
   "id": "f58a4c06-20c4-49a4-a5b6-37440462a5a9",
   "metadata": {},
   "outputs": [
    {
     "name": "stdout",
     "output_type": "stream",
     "text": [
      "The conncetion pool is created with the name:  ll_pool_a\n",
      "The pool size is:  3\n"
     ]
    }
   ],
   "source": [
    "from mysql.connector.pooling import MySQLConnectionPool\n",
    "from mysql.connector import Error\n",
    "\n",
    "dbconfig = {\n",
    "    \"database\":\"little_lemon_db\",\n",
    "    \"user\":\"root\",\n",
    "    \"password\":\"51125112\"\n",
    "}\n",
    "try:\n",
    "    pool = MySQLConnectionPool(pool_name = \"ll_pool_a\",\n",
    "                               pool_size = 3,\n",
    "                               **dbconfig)\n",
    "    print(\"The conncetion pool is created with the name: \", pool.pool_name)\n",
    "    print(\"The pool size is: \", pool.pool_size)\n",
    "except Error as er:\n",
    "    print(\"Error code: \", er.errno)\n",
    "    "
   ]
  },
  {
   "cell_type": "code",
   "execution_count": 7,
   "id": "402e5a7c-ad3c-441c-9d33-a73cc8c2bd3c",
   "metadata": {},
   "outputs": [
    {
     "name": "stdout",
     "output_type": "stream",
     "text": [
      "Second task:\n"
     ]
    }
   ],
   "source": [
    "#################################################\n",
    "#                Task 2                         #\n",
    "#################################################\n",
    "print(\"Second task:\")"
   ]
  },
  {
   "cell_type": "code",
   "execution_count": 8,
   "id": "2bf9353b-31ba-483b-bab1-4d5429144ee4",
   "metadata": {},
   "outputs": [
    {
     "name": "stdout",
     "output_type": "stream",
     "text": [
      "['Hour', 'n_bookings']\n",
      "(19, 2)\n",
      "(15, 1)\n",
      "(17, 1)\n",
      "(18, 1)\n",
      "(20, 1)\n"
     ]
    }
   ],
   "source": [
    "cursor.execute(\"DROP PROCEDURE IF EXISTS PeakHours;\")\n",
    "\n",
    "\n",
    "proc = \"\"\" CREATE PROCEDURE PeakHours()\n",
    "BEGIN\n",
    "SELECT HOUR(BookingSLot) AS Hour,\n",
    "COUNT(HOUR(BookingSLot)) AS n_bookings\n",
    "FROM Bookings\n",
    "GROUP BY Hour\n",
    "ORDER BY n_bookings DESC;\n",
    "END\n",
    "\"\"\"\n",
    "\n",
    "cursor.execute(proc)\n",
    "cursor.callproc(\"PeakHours\")\n",
    "\n",
    "results = next(cursor.stored_results())\n",
    "dataset = results.fetchall()\n",
    "\n",
    "for column_id in cursor.stored_results():\n",
    "    columns = [ column[0] for column in column_id.description]\n",
    "\n",
    "print(columns)\n",
    "\n",
    "for data in dataset:\n",
    "    print(data)\n"
   ]
  },
  {
   "cell_type": "code",
   "execution_count": 9,
   "id": "5baebb2b-93bc-4d77-8e7c-8fae7bb20150",
   "metadata": {},
   "outputs": [
    {
     "name": "stdout",
     "output_type": "stream",
     "text": [
      "Third task:\n"
     ]
    }
   ],
   "source": [
    "#################################################\n",
    "#                Task 3                         #\n",
    "#################################################\n",
    "print(\"Third task:\")"
   ]
  },
  {
   "cell_type": "code",
   "execution_count": 10,
   "id": "83c13798-f040-4730-98c0-1fcfa46ef9df",
   "metadata": {},
   "outputs": [
    {
     "name": "stdout",
     "output_type": "stream",
     "text": [
      "['GuestName', 'OrderStatus']\n",
      "('AnnaIversen', 'Ready to Pay')\n",
      "('JoakimIversen', 'Ready to Pay')\n",
      "('VanessaMcCarthy', 'Ready to Serve')\n",
      "('MarcosRomero', 'Preparing Order')\n",
      "('HirokiYamane', 'Ready to Pay')\n",
      "('DianaPinto', 'Order Served')\n"
     ]
    }
   ],
   "source": [
    "cursor.execute(\"DROP PROCEDURE IF EXISTS GuestStatus;\")\n",
    "\n",
    "\n",
    "proc = \"\"\" CREATE PROCEDURE GuestStatus()\n",
    "BEGIN\n",
    "SELECT CONCAT(Bookings.GuestFirstName,'', Bookings.GuestLastName) AS GuestName,\n",
    "CASE\n",
    "WHEN Employees.Role = \"Manager\" OR Employees.Role = \"Assistant Manager\" THEN \"Ready to Pay\"\n",
    "WHEN Employees.Role = \"Head Chef\" THEN \"Ready to Serve\"\n",
    "WHEN Employees.Role = \"Assistant Chef\" THEN \"Preparing Order\"\n",
    "WHEN Employees.Role = \"Head Waiter\" THEN \"Order Served\"\n",
    "ELSE \"Unknown status\"\n",
    "END AS OrderStatus\n",
    "FROM Bookings \n",
    "LEFT JOIN Employees\n",
    "ON Bookings.EmployeeID = Employees.EmployeeID;\n",
    "END\n",
    "\"\"\"\n",
    "\n",
    "cursor.execute(proc)\n",
    "cursor.callproc(\"GuestStatus\")\n",
    "\n",
    "results = next(cursor.stored_results())\n",
    "dataset = results.fetchall()\n",
    "\n",
    "for column_id in cursor.stored_results():\n",
    "    columns = [ column[0] for column in column_id.description]\n",
    "\n",
    "print(columns)\n",
    "\n",
    "for data in dataset:\n",
    "    print(data)\n"
   ]
  },
  {
   "cell_type": "code",
   "execution_count": 11,
   "id": "53ded72a-99ba-48d2-a98f-b27a6a0ba48d",
   "metadata": {},
   "outputs": [
    {
     "name": "stdout",
     "output_type": "stream",
     "text": [
      "Cursor is Closed\n",
      "Connection is Closed\n"
     ]
    }
   ],
   "source": [
    "#Closing the Connection \n",
    "\n",
    "if connection.is_connected():\n",
    "    cursor.close()\n",
    "    print(\"Cursor is Closed\")\n",
    "    connection.close()\n",
    "    print(\"Connection is Closed\")\n",
    "else:\n",
    "    print(\"Connection is already closed\")"
   ]
  },
  {
   "cell_type": "code",
   "execution_count": null,
   "id": "0b507ffb-3e45-46ed-a799-fbf31cfd9f06",
   "metadata": {},
   "outputs": [],
   "source": []
  }
 ],
 "metadata": {
  "kernelspec": {
   "display_name": "Python 3 (ipykernel)",
   "language": "python",
   "name": "python3"
  },
  "language_info": {
   "codemirror_mode": {
    "name": "ipython",
    "version": 3
   },
   "file_extension": ".py",
   "mimetype": "text/x-python",
   "name": "python",
   "nbconvert_exporter": "python",
   "pygments_lexer": "ipython3",
   "version": "3.12.5"
  }
 },
 "nbformat": 4,
 "nbformat_minor": 5
}
