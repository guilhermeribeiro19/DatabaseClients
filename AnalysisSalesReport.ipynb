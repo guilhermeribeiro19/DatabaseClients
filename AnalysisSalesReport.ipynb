{
 "cells": [
  {
   "cell_type": "code",
   "execution_count": 1,
   "id": "217d9c27-f772-486e-96bb-2a7774aabcb5",
   "metadata": {},
   "outputs": [],
   "source": [
    "# Import MySQL Connector/Python \n",
    "import mysql.connector as connector\n",
    "\n",
    "connection=connector.connect(user=\"root\",password=\"51125112\")"
   ]
  },
  {
   "cell_type": "code",
   "execution_count": 2,
   "id": "d0e17b3f-a869-4e93-847f-618de2d58de5",
   "metadata": {},
   "outputs": [],
   "source": [
    "cursor = connection.cursor()"
   ]
  },
  {
   "cell_type": "code",
   "execution_count": 3,
   "id": "ca2dc790-b0c9-4316-b607-90d6363093b0",
   "metadata": {},
   "outputs": [],
   "source": [
    "cursor.execute(\"USE little_lemon_db\")"
   ]
  },
  {
   "cell_type": "code",
   "execution_count": 4,
   "id": "e5dbb7e5-2d69-4ba7-909c-e63f55bb757d",
   "metadata": {},
   "outputs": [
    {
     "name": "stdout",
     "output_type": "stream",
     "text": [
      "First task:\n"
     ]
    }
   ],
   "source": [
    "#################################################\n",
    "#                Task 1                         #\n",
    "#################################################\n",
    "print(\"First task:\")"
   ]
  },
  {
   "cell_type": "code",
   "execution_count": 6,
   "id": "4ae1cee6-afd8-4192-9770-45b0592e3197",
   "metadata": {},
   "outputs": [
    {
     "name": "stdout",
     "output_type": "stream",
     "text": [
      "The conncetion pool is created with the name:  pool_b\n",
      "The pool size is:  2\n"
     ]
    }
   ],
   "source": [
    "from mysql.connector.pooling import MySQLConnectionPool\n",
    "from mysql.connector import Error\n",
    "\n",
    "dbconfig = {\n",
    "    \"database\":\"little_lemon_db\",\n",
    "    \"user\":\"root\",\n",
    "    \"password\":\"51125112\"\n",
    "}\n",
    "try:\n",
    "    pool_b = MySQLConnectionPool(pool_name=\"pool_b\",\n",
    "                               pool_size=2,\n",
    "                               **dbconfig)\n",
    "    print(\"The conncetion pool is created with the name: \", pool_b.pool_name)\n",
    "    print(\"The pool size is: \", pool_b.pool_size)\n",
    "except Error as er:\n",
    "    print(\"Error code: \", er.errno)\n",
    "    "
   ]
  },
  {
   "cell_type": "code",
   "execution_count": 7,
   "id": "39591a6d-1121-4e97-bf86-ed4493cf8f45",
   "metadata": {},
   "outputs": [
    {
     "name": "stdout",
     "output_type": "stream",
     "text": [
      "Second task:\n"
     ]
    }
   ],
   "source": [
    "#################################################\n",
    "#                Task 2                         #\n",
    "#################################################\n",
    "print(\"Second task:\")"
   ]
  },
  {
   "cell_type": "code",
   "execution_count": 8,
   "id": "fad0ca32-c09a-44bc-b460-88f9cb9417fd",
   "metadata": {},
   "outputs": [
    {
     "name": "stdout",
     "output_type": "stream",
     "text": [
      "Error code: -1\n",
      "Error message: Failed getting connection; pool exhausted\n"
     ]
    }
   ],
   "source": [
    "try:\n",
    "    # Get connections from the pool\n",
    "    connection1 = pool_b.get_connection()\n",
    "    connection2 = pool_b.get_connection()\n",
    "    connection3 = pool_b.get_connection()\n",
    "    \n",
    "    cursor1 = connection1.cursor()\n",
    "    cursor1.execute(\"\"\"\n",
    "        INSERT INTO Bookings (TableNumber, FirstName, LastName, BookingSlot, EmployeeID)\n",
    "        VALUES (8, 'Anees', 'Java', '18:00', 6)\n",
    "    \"\"\")\n",
    "    connection1.commit()\n",
    "\n",
    "    \n",
    "    cursor2 = connection2.cursor()\n",
    "    cursor2.execute(\"\"\"\n",
    "        INSERT INTO Bookings (TableNumber, FirstName, LastName, BookingSlot, EmployeeID)\n",
    "        VALUES (5, 'Bald', 'Vin', '19:00', 6)\n",
    "    \"\"\")\n",
    "    connection2.commit()\n",
    "\n",
    "    \n",
    "    cursor3 = connection3.cursor()\n",
    "    cursor3.execute(\"\"\"\n",
    "        INSERT INTO Bookings (TableNumber, FirstName, LastName, BookingSlot, EmployeeID)\n",
    "        VALUES (12, 'Jay', 'Kon', '19:30', 6)\n",
    "    \"\"\")\n",
    "    connection3.commit()\n",
    "\n",
    "except Error as er:\n",
    "    print(\"Error code:\", er.errno)\n",
    "    print(\"Error message:\", er.msg)\n",
    "\n"
   ]
  },
  {
   "cell_type": "code",
   "execution_count": 9,
   "id": "be9de3da-ae89-4520-910b-9168583b2730",
   "metadata": {},
   "outputs": [
    {
     "name": "stdout",
     "output_type": "stream",
     "text": [
      "Third task:\n"
     ]
    }
   ],
   "source": [
    "#################################################\n",
    "#                Task 3                         #\n",
    "#################################################\n",
    "print(\"Third task:\")"
   ]
  },
  {
   "cell_type": "code",
   "execution_count": 10,
   "id": "ef10e9ca-ba38-415c-854b-79c732a373de",
   "metadata": {},
   "outputs": [
    {
     "name": "stdout",
     "output_type": "stream",
     "text": [
      "Report generated successfully\n",
      "{'Manager': ('Mario Gollini', 1), 'Highest Salary': ('Mario Gollini', 'Manager'), 'Guests Count': (4,), 'Waiting Guests': [('VanessaMcCarthy', 3), ('MarcosRomero', 4), ('HirokiYamane', 5), ('AnnaIversen', 1), ('JoakimIversen', 2), ('DianaPinto', 6)]}\n"
     ]
    }
   ],
   "source": [
    "try:\n",
    "    manager = \"\"\"SELECT Name, EmployeeID FROM Employees WHERE Role = 'Manager' \"\"\"\n",
    "    hig_sal = \"\"\"SELECT Name, Role FROM Employees ORDER BY Annual_Salary DESC LIMIT 1\"\"\"\n",
    "    n_guest = \"\"\"SELECT COUNT(*) FROM Bookings WHERE HOUR(BookingSlot) BETWEEN 18 AND 20\"\"\"\n",
    "    seat = \"\"\" SELECT CONCAT(GuestFirstName, '', GuestLastName) AS GuestName, BookingID FROM Bookings ORDER BY HOUR(BookingSlot) ASC\"\"\"\n",
    "\n",
    "    cursor.execute(manager)\n",
    "    manager_info = cursor.fetchone()\n",
    "\n",
    "    cursor.execute(hig_sal)\n",
    "    hig_sal_info = cursor.fetchone()\n",
    "\n",
    "    cursor.execute(n_guest)\n",
    "    n_guest_info = cursor.fetchone()\n",
    "\n",
    "    cursor.execute(seat)\n",
    "    seat_info = cursor.fetchall()\n",
    "\n",
    "    report = {\n",
    "        \"Manager\": manager_info,\n",
    "        \"Highest Salary\": hig_sal_info,\n",
    "        \"Guests Count\": n_guest_info,\n",
    "        \"Waiting Guests\": seat_info\n",
    "        }\n",
    "\n",
    "    print(\"Report generated successfully\")\n",
    "    print(report)\n",
    "except Error as er:\n",
    "    print(f\"Error: {er}\")\n",
    "    "
   ]
  },
  {
   "cell_type": "code",
   "execution_count": 11,
   "id": "926f8dc9-d418-49c8-8cfd-08267ea92a20",
   "metadata": {},
   "outputs": [
    {
     "name": "stdout",
     "output_type": "stream",
     "text": [
      "Fourth task:\n"
     ]
    }
   ],
   "source": [
    "#################################################\n",
    "#                Task 4                         #\n",
    "#################################################\n",
    "print(\"Fourth task:\")"
   ]
  },
  {
   "cell_type": "code",
   "execution_count": 12,
   "id": "e823bd31-f557-4725-8e1c-16a5ae5430e9",
   "metadata": {},
   "outputs": [
    {
     "name": "stdout",
     "output_type": "stream",
     "text": [
      "['TotalSales', 'AverageSale', 'MinimumBill', 'MaximumBill']\n",
      "(Decimal('243'), Decimal('48.6000'), 37, 86)\n"
     ]
    }
   ],
   "source": [
    "cursor.execute(\"DROP PROCEDURE IF EXISTS BasicSalesReport;\")\n",
    "\n",
    "proc = \"\"\"\n",
    "CREATE PROCEDURE BasicSalesReport()\n",
    "BEGIN\n",
    "    SELECT\n",
    "        SUM(BillAmount) AS TotalSales,\n",
    "        AVG(BillAmount) AS AverageSale,\n",
    "        MIN(BillAmount) AS MinimumBill,\n",
    "        MAX(BillAmount) AS MaximumBill\n",
    "    FROM Orders;\n",
    "END\n",
    "\"\"\"\n",
    "\n",
    "cursor.execute(proc)\n",
    "cursor.callproc(\"BasicSalesReport\")\n",
    "\n",
    "results = next(cursor.stored_results())\n",
    "dataset = results.fetchall()\n",
    "\n",
    "columns = [column[0] for column in results.description]\n",
    "print(columns)\n",
    "\n",
    "for data in dataset:\n",
    "    print(data)\n"
   ]
  },
  {
   "cell_type": "code",
   "execution_count": 13,
   "id": "a6d5ec55-ad95-49c7-a9bc-3a8022f8d17a",
   "metadata": {},
   "outputs": [
    {
     "name": "stdout",
     "output_type": "stream",
     "text": [
      "Fifth task:\n"
     ]
    }
   ],
   "source": [
    "#################################################\n",
    "#                Task 5                         #\n",
    "#################################################\n",
    "print(\"Fifth task:\")"
   ]
  },
  {
   "cell_type": "code",
   "execution_count": 14,
   "id": "23b4d659-df17-42bc-b8d1-6544f83cf4b7",
   "metadata": {},
   "outputs": [
    {
     "name": "stdout",
     "output_type": "stream",
     "text": [
      "Connection pool created successfully\n",
      "[15:00:00]\n",
      "[Vanessa McCarthy]\n",
      "[Assigned to: Giorgos Dioudis [Head Chef]]\n",
      "\n",
      "[17:30:00]\n",
      "[Marcos Romero]\n",
      "[Assigned to: Fatma Kaya [Assistant Chef]]\n",
      "\n",
      "[18:30:00]\n",
      "[Hiroki Yamane]\n",
      "[Assigned to: Adrian Gollini [Assistant Manager]]\n",
      "\n"
     ]
    }
   ],
   "source": [
    "try:\n",
    "    pool_b = MySQLConnectionPool(pool_name=\"pool_b\", pool_size=2, **dbconfig)\n",
    "    print(\"Connection pool created successfully\")\n",
    "except Error as e:\n",
    "    print(f\"Error: {e}\")\n",
    "\n",
    "\n",
    "try:\n",
    "        \n",
    "        connection = pool_b.get_connection()\n",
    "        cursor = connection.cursor(buffered=True)\n",
    "        \n",
    "        query = \"\"\"\n",
    "        SELECT \n",
    "            Bookings.BookingSlot AS BookingSlot, \n",
    "            CONCAT(Bookings.GuestFirstName, ' ', Bookings.GuestLastName) AS Guest_name, \n",
    "            CONCAT('Assigned to: ', Employees.Name, ' [', Employees.Role, ']') AS Assigned_to\n",
    "        FROM Bookings\n",
    "        JOIN Employees ON Bookings.EmployeeID = Employees.EmployeeID\n",
    "        ORDER BY BookingSlot ASC\n",
    "        LIMIT 3;\n",
    "        \"\"\"\n",
    "        \n",
    "        cursor.execute(query)\n",
    "        results = cursor.fetchall()\n",
    "        \n",
    "        for row in results:\n",
    "            print(f\"[{row[0]}]\\n[{row[1]}]\\n[{row[2]}]\\n\")\n",
    "        \n",
    "        # Return the connection back to the pool\n",
    "        cursor.close()\n",
    "        connection.close()\n",
    "        \n",
    "except Error as e:\n",
    "        print(f\"Error: {e}\")"
   ]
  },
  {
   "cell_type": "code",
   "execution_count": 15,
   "id": "7cb778e1-12b9-4a06-94b4-78176e1ff2b4",
   "metadata": {},
   "outputs": [
    {
     "ename": "AttributeError",
     "evalue": "'NoneType' object has no attribute 'is_connected'",
     "output_type": "error",
     "traceback": [
      "\u001b[1;31m---------------------------------------------------------------------------\u001b[0m",
      "\u001b[1;31mAttributeError\u001b[0m                            Traceback (most recent call last)",
      "Cell \u001b[1;32mIn[15], line 3\u001b[0m\n\u001b[0;32m      1\u001b[0m \u001b[38;5;66;03m#Closing the Connection \u001b[39;00m\n\u001b[1;32m----> 3\u001b[0m \u001b[38;5;28;01mif\u001b[39;00m \u001b[43mconnection\u001b[49m\u001b[38;5;241;43m.\u001b[39;49m\u001b[43mis_connected\u001b[49m():\n\u001b[0;32m      4\u001b[0m     cursor\u001b[38;5;241m.\u001b[39mclose()\n\u001b[0;32m      5\u001b[0m     \u001b[38;5;28mprint\u001b[39m(\u001b[38;5;124m\"\u001b[39m\u001b[38;5;124mCursor is Closed\u001b[39m\u001b[38;5;124m\"\u001b[39m)\n",
      "File \u001b[1;32m~\\AppData\\Local\\Programs\\Python\\Python312\\Lib\\site-packages\\mysql\\connector\\pooling.py:396\u001b[0m, in \u001b[0;36mPooledMySQLConnection.__getattr__\u001b[1;34m(self, attr)\u001b[0m\n\u001b[0;32m    394\u001b[0m \u001b[38;5;28;01mdef\u001b[39;00m \u001b[38;5;21m__getattr__\u001b[39m(\u001b[38;5;28mself\u001b[39m, attr: Any) \u001b[38;5;241m-\u001b[39m\u001b[38;5;241m>\u001b[39m Any:\n\u001b[0;32m    395\u001b[0m \u001b[38;5;250m    \u001b[39m\u001b[38;5;124;03m\"\"\"Calls attributes of the MySQLConnection instance\"\"\"\u001b[39;00m\n\u001b[1;32m--> 396\u001b[0m     \u001b[38;5;28;01mreturn\u001b[39;00m \u001b[38;5;28;43mgetattr\u001b[39;49m\u001b[43m(\u001b[49m\u001b[38;5;28;43mself\u001b[39;49m\u001b[38;5;241;43m.\u001b[39;49m\u001b[43m_cnx\u001b[49m\u001b[43m,\u001b[49m\u001b[43m \u001b[49m\u001b[43mattr\u001b[49m\u001b[43m)\u001b[49m\n",
      "\u001b[1;31mAttributeError\u001b[0m: 'NoneType' object has no attribute 'is_connected'"
     ]
    }
   ],
   "source": [
    "#Closing the Connection \n",
    "\n",
    "if connection.is_connected():\n",
    "    cursor.close()\n",
    "    print(\"Cursor is Closed\")\n",
    "    connection.close()\n",
    "    print(\"Connection is Closed\")\n",
    "else:\n",
    "    print(\"Connection is already closed\")"
   ]
  },
  {
   "cell_type": "code",
   "execution_count": null,
   "id": "4e0dba9f-73d2-4622-9c55-3cfac49b48c5",
   "metadata": {},
   "outputs": [],
   "source": []
  }
 ],
 "metadata": {
  "kernelspec": {
   "display_name": "Python 3 (ipykernel)",
   "language": "python",
   "name": "python3"
  },
  "language_info": {
   "codemirror_mode": {
    "name": "ipython",
    "version": 3
   },
   "file_extension": ".py",
   "mimetype": "text/x-python",
   "name": "python",
   "nbconvert_exporter": "python",
   "pygments_lexer": "ipython3",
   "version": "3.12.5"
  }
 },
 "nbformat": 4,
 "nbformat_minor": 5
}
